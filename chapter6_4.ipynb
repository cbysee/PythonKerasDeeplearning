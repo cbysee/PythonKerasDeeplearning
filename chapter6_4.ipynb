{
  "nbformat": 4,
  "nbformat_minor": 0,
  "metadata": {
    "accelerator": "GPU",
    "colab": {
      "name": "chapter6-4.ipynb",
      "provenance": [],
      "collapsed_sections": [],
      "mount_file_id": "1oq6Q6zHglaeS4Sy0Wl2jWhGa7IUE1WRE",
      "authorship_tag": "ABX9TyNPy0HHtDuTW29QVOGxvUKa",
      "include_colab_link": true
    },
    "kernelspec": {
      "display_name": "Python 3",
      "name": "python3"
    }
  },
  "cells": [
    {
      "cell_type": "markdown",
      "metadata": {
        "id": "view-in-github",
        "colab_type": "text"
      },
      "source": [
        "<a href=\"https://colab.research.google.com/github/CobaMasa/PythonKerasDeeplearning/blob/main/chapter6_4.ipynb\" target=\"_parent\"><img src=\"https://colab.research.google.com/assets/colab-badge.svg\" alt=\"Open In Colab\"/></a>"
      ]
    },
    {
      "cell_type": "code",
      "metadata": {
        "id": "ZHP4HHFx7whX",
        "outputId": "4b088b1f-719d-4c49-d05b-8a2175c9f212",
        "colab": {
          "base_uri": "https://localhost:8080/"
        }
      },
      "source": [
        "# List 6-45: Prepare imdb data\n",
        "from tensorflow.keras.datasets import imdb\n",
        "from tensorflow.keras.preprocessing import sequence\n",
        "\n",
        "max_features = 10000\n",
        "max_len = 500\n",
        "\n",
        "print('Loading data...')\n",
        "(x_train, y_train), (x_test, y_tset) = imdb.load_data(num_words=max_features)\n",
        "print(len(x_train), 'train sequences.')\n",
        "print(len(x_test), 'test sequences.')\n",
        "\n",
        "print('\\nPad sequence (samples x time)')\n",
        "x_train = sequence.pad_sequences(x_train, maxlen=max_len)\n",
        "x_test = sequence.pad_sequences(x_test, maxlen=max_len)\n",
        "print('x_train shape: ', x_train.shape)\n",
        "print('x_test shape: ', x_test.shape)"
      ],
      "execution_count": 1,
      "outputs": [
        {
          "output_type": "stream",
          "text": [
            "Loading data...\n",
            "Downloading data from https://storage.googleapis.com/tensorflow/tf-keras-datasets/imdb.npz\n",
            "17465344/17464789 [==============================] - 0s 0us/step\n",
            "25000 train sequences.\n",
            "25000 test sequences.\n",
            "\n",
            "Pad sequence (samples x time)\n",
            "x_train shape:  (25000, 500)\n",
            "x_test shape:  (25000, 500)\n"
          ],
          "name": "stdout"
        }
      ]
    },
    {
      "cell_type": "code",
      "metadata": {
        "id": "NEFr90PcYh15",
        "outputId": "6afcf161-9362-4879-87d6-706a4bae0911",
        "colab": {
          "base_uri": "https://localhost:8080/",
          "height": 748
        }
      },
      "source": [
        "# List 6-46: Train & val simple 1D CNN \n",
        "from tensorflow.keras.layers import Input, Embedding, Conv1D, MaxPooling1D, GlobalMaxPooling1D, Dense\n",
        "from tensorflow.keras.optimizers import RMSprop\n",
        "from tensorflow.keras.models import Model\n",
        "\n",
        "inputs = Input(shape=(max_len))\n",
        "x = Embedding(max_features, 128)(inputs)\n",
        "x = Conv1D(32, 7, activation='relu')(x)\n",
        "x = MaxPooling1D(5)(x)\n",
        "x = Conv1D(32, 7, activation='relu')(x)\n",
        "x = GlobalMaxPooling1D()(x)\n",
        "prediction = Dense(1)(x)\n",
        "\n",
        "model = Model(inputs=inputs, outputs=prediction)\n",
        "model.compile(optimizer=RMSprop(lr=1e-4), loss='binary_crossentropy', metrics=['acc'])\n",
        "display(model.summary())\n",
        "history = model.fit(x_train, y_train, epochs=10, batch_size=128, validation_split=0.2)"
      ],
      "execution_count": 2,
      "outputs": [
        {
          "output_type": "stream",
          "text": [
            "Model: \"functional_1\"\n",
            "_________________________________________________________________\n",
            "Layer (type)                 Output Shape              Param #   \n",
            "=================================================================\n",
            "input_1 (InputLayer)         [(None, 500)]             0         \n",
            "_________________________________________________________________\n",
            "embedding (Embedding)        (None, 500, 128)          1280000   \n",
            "_________________________________________________________________\n",
            "conv1d (Conv1D)              (None, 494, 32)           28704     \n",
            "_________________________________________________________________\n",
            "max_pooling1d (MaxPooling1D) (None, 98, 32)            0         \n",
            "_________________________________________________________________\n",
            "conv1d_1 (Conv1D)            (None, 92, 32)            7200      \n",
            "_________________________________________________________________\n",
            "global_max_pooling1d (Global (None, 32)                0         \n",
            "_________________________________________________________________\n",
            "dense (Dense)                (None, 1)                 33        \n",
            "=================================================================\n",
            "Total params: 1,315,937\n",
            "Trainable params: 1,315,937\n",
            "Non-trainable params: 0\n",
            "_________________________________________________________________\n"
          ],
          "name": "stdout"
        },
        {
          "output_type": "display_data",
          "data": {
            "text/plain": [
              "None"
            ]
          },
          "metadata": {
            "tags": []
          }
        },
        {
          "output_type": "stream",
          "text": [
            "Epoch 1/10\n",
            "157/157 [==============================] - 6s 35ms/step - loss: 1.0050 - acc: 0.5070 - val_loss: 0.6899 - val_acc: 0.5456\n",
            "Epoch 2/10\n",
            "157/157 [==============================] - 5s 33ms/step - loss: 0.6736 - acc: 0.6457 - val_loss: 0.6708 - val_acc: 0.6454\n",
            "Epoch 3/10\n",
            "157/157 [==============================] - 5s 32ms/step - loss: 0.6302 - acc: 0.7576 - val_loss: 0.6192 - val_acc: 0.7130\n",
            "Epoch 4/10\n",
            "157/157 [==============================] - 5s 33ms/step - loss: 0.5365 - acc: 0.8141 - val_loss: 0.4961 - val_acc: 0.7960\n",
            "Epoch 5/10\n",
            "157/157 [==============================] - 5s 33ms/step - loss: 0.4102 - acc: 0.8487 - val_loss: 0.4156 - val_acc: 0.8364\n",
            "Epoch 6/10\n",
            "157/157 [==============================] - 5s 33ms/step - loss: 0.3427 - acc: 0.8759 - val_loss: 0.4020 - val_acc: 0.8518\n",
            "Epoch 7/10\n",
            "157/157 [==============================] - 5s 32ms/step - loss: 0.3021 - acc: 0.8961 - val_loss: 0.4108 - val_acc: 0.8610\n",
            "Epoch 8/10\n",
            "157/157 [==============================] - 5s 32ms/step - loss: 0.2696 - acc: 0.9097 - val_loss: 0.4257 - val_acc: 0.8590\n",
            "Epoch 9/10\n",
            "157/157 [==============================] - 5s 32ms/step - loss: 0.2415 - acc: 0.9197 - val_loss: 0.4181 - val_acc: 0.8684\n",
            "Epoch 10/10\n",
            "157/157 [==============================] - 5s 32ms/step - loss: 0.2215 - acc: 0.9283 - val_loss: 0.4513 - val_acc: 0.8694\n"
          ],
          "name": "stdout"
        }
      ]
    },
    {
      "cell_type": "code",
      "metadata": {
        "id": "xsB3q6PLZ7z5",
        "outputId": "3cffe03d-7406-41ff-add8-732034ba2e67",
        "colab": {
          "base_uri": "https://localhost:8080/",
          "height": 441
        }
      },
      "source": [
        "# Plot the results\n",
        "import matplotlib.pyplot as plt\n",
        "\n",
        "loss = history.history['loss']\n",
        "val_loss = history.history['val_loss']\n",
        "acc = history.history['acc']\n",
        "val_acc = history.history['val_acc']\n",
        "epochs = range(10)\n",
        "\n",
        "fig, ax = plt.subplots(1, 2, figsize=(14, 6))\n",
        "\n",
        "# about acc\n",
        "ax[0].plot(epochs, acc, 'bo', label='Training accuracy')\n",
        "ax[0].plot(epochs, val_acc, 'b', label='Validation accuracy')\n",
        "ax[0].set_title('Training and Validation Accuracy')\n",
        "ax[0].legend()\n",
        "\n",
        "# about loss\n",
        "ax[1].plot(epochs, loss, 'bo', label='Training loss')\n",
        "ax[1].plot(epochs, val_loss, 'b', label='Validation loss')\n",
        "ax[1].set_title('Training and Validation Loss')\n",
        "ax[1].legend()\n",
        "\n",
        "plt.tight_layout()\n",
        "plt.show();"
      ],
      "execution_count": 3,
      "outputs": [
        {
          "output_type": "display_data",
          "data": {
            "image/png": "[encoded data removed]",
            "text/plain": [
              "<Figure size 1008x432 with 2 Axes>"
            ]
          },
          "metadata": {
            "tags": [],
            "needs_background": "light"
          }
        }
      ]
    },
    {
      "cell_type": "code",
      "metadata": {
        "id": "Zesv8SGWbIkv"
      },
      "source": [
        "# List 6-47: Train and val simple 1D CNN with temperature data\n",
        "## Def some functions to generate data ahead\n",
        "import os\n",
        "import numpy as np\n",
        "\n",
        "path = 'drive/My Drive/Study/PythonKeras/data/jena_climate'\n",
        "fname = os.path.join(path, 'jena_climate_2009_2016.csv')\n",
        "with open(fname, 'r') as f:\n",
        "    data = f.read()\n",
        "\n",
        "lines = data.split('\\n')\n",
        "header = lines[0].split(',')\n",
        "lines = lines[1:]\n",
        "\n",
        "## make float data\n",
        "float_data = np.zeros((len(lines), len(header)-1))\n",
        "for i, line in enumerate(lines):\n",
        "    values = [float(value) for value in line.split(',')[1:]]\n",
        "    float_data[i, :] = values\n",
        "\n",
        "mean = float_data[:200000].mean(axis=0)\n",
        "float_data -= mean\n",
        "std = float_data[:200000].std(axis=0)\n",
        "float_data /= std\n",
        "\n",
        "# List 6-33: Define the generator\n",
        "def generator(data, lookback, delay, min_index, max_index, shuffle=False, batch_size=128, step=6):\n",
        "    if max_index is None:\n",
        "        max_index = len(data) - delay - 1\n",
        "    \n",
        "    i = min_index + lookback\n",
        "    \n",
        "    while True:\n",
        "        if shuffle:\n",
        "            rows = np.random.randint(min_index+lookback, max_index, size=batch_size)\n",
        "        \n",
        "        else:\n",
        "            if (i+batch_size) >= max_index:\n",
        "                i = min_index + lookback\n",
        "            rows = np.arange(i, min(i+batch_size, max_index))\n",
        "            i += len(rows)\n",
        "        \n",
        "        samples = np.zeros((len(rows), lookback//step, data.shape[-1]))\n",
        "        targets = np.zeros((len(rows), ))\n",
        "        for j, row in enumerate(rows):\n",
        "            indices = range(rows[j]-lookback, rows[j], step)\n",
        "            samples[j] = data[indices]\n",
        "            targets[j] = data[rows[j]+delay][1]\n",
        "        yield samples, targets\n",
        "\n",
        "# List 6-34: Prepares generators of data\n",
        "lookback = 1440\n",
        "step = 6\n",
        "delay = 144\n",
        "batch_size = 128\n",
        "some_args = {'lookback': lookback, 'delay': delay, 'batch_size': batch_size, 'step': step}\n",
        "\n",
        "train_gen  = generator(float_data, min_index=0, max_index=200000, shuffle=True, **some_args)\n",
        "val_gen = generator(float_data, min_index=200001, max_index=300000, **some_args)\n",
        "test_gen = generator(float_data, min_index=300001, max_index=None, **some_args)\n",
        "\n",
        "val_steps = (300000 - 200001 - lookback) // batch_size\n",
        "test_steps = (len(float_data) - 300001 - lookback) // batch_size"
      ],
      "execution_count": 4,
      "outputs": []
    },
    {
      "cell_type": "code",
      "metadata": {
        "id": "bYsK-M4cgEZ3",
        "outputId": "0a2942a7-cc12-4940-acd0-692fedf53187",
        "colab": {
          "base_uri": "https://localhost:8080/"
        }
      },
      "source": [
        "# List 6-47: Train and val simple 1D CNN with temperature data\n",
        "inputs = Input(shape=(None, float_data.shape[-1]))\n",
        "x = Conv1D(32, 5, activation='relu')(inputs)\n",
        "x = MaxPooling1D(3)(x)\n",
        "x = Conv1D(32, 5, activation='relu')(x)\n",
        "x = MaxPooling1D(3)(x)\n",
        "x = Conv1D(32, 5, activation='relu')(x)\n",
        "x = GlobalMaxPooling1D()(x)\n",
        "prediction = Dense(1)(x)\n",
        "\n",
        "model = Model(inputs=inputs, outputs=prediction)\n",
        "model.compile(optimizer=RMSprop(), loss='mae')\n",
        "history = model.fit(train_gen, steps_per_epoch=500, epochs=20, validation_data=val_gen, validation_steps=val_steps)"
      ],
      "execution_count": 5,
      "outputs": [
        {
          "output_type": "stream",
          "text": [
            "Epoch 1/20\n",
            "500/500 [==============================] - 13s 26ms/step - loss: 0.4075 - val_loss: 0.4719\n",
            "Epoch 2/20\n",
            "500/500 [==============================] - 13s 25ms/step - loss: 0.3585 - val_loss: 0.4628\n",
            "Epoch 3/20\n",
            "500/500 [==============================] - 13s 25ms/step - loss: 0.3347 - val_loss: 0.4783\n",
            "Epoch 4/20\n",
            "500/500 [==============================] - 13s 25ms/step - loss: 0.3217 - val_loss: 0.4561\n",
            "Epoch 5/20\n",
            "500/500 [==============================] - 13s 25ms/step - loss: 0.3084 - val_loss: 0.5316\n",
            "Epoch 6/20\n",
            "500/500 [==============================] - 12s 25ms/step - loss: 0.2982 - val_loss: 0.4833\n",
            "Epoch 7/20\n",
            "500/500 [==============================] - 12s 25ms/step - loss: 0.2934 - val_loss: 0.4805\n",
            "Epoch 8/20\n",
            "500/500 [==============================] - 12s 25ms/step - loss: 0.2860 - val_loss: 0.4686\n",
            "Epoch 9/20\n",
            "500/500 [==============================] - 12s 25ms/step - loss: 0.2805 - val_loss: 0.4631\n",
            "Epoch 10/20\n",
            "500/500 [==============================] - 12s 25ms/step - loss: 0.2753 - val_loss: 0.4680\n",
            "Epoch 11/20\n",
            "500/500 [==============================] - 12s 24ms/step - loss: 0.2722 - val_loss: 0.5023\n",
            "Epoch 12/20\n",
            "500/500 [==============================] - 13s 25ms/step - loss: 0.2663 - val_loss: 0.4713\n",
            "Epoch 13/20\n",
            "500/500 [==============================] - 12s 25ms/step - loss: 0.2631 - val_loss: 0.4666\n",
            "Epoch 14/20\n",
            "500/500 [==============================] - 12s 24ms/step - loss: 0.2585 - val_loss: 0.4845\n",
            "Epoch 15/20\n",
            "500/500 [==============================] - 12s 24ms/step - loss: 0.2562 - val_loss: 0.4721\n",
            "Epoch 16/20\n",
            "500/500 [==============================] - 12s 24ms/step - loss: 0.2522 - val_loss: 0.4788\n",
            "Epoch 17/20\n",
            "500/500 [==============================] - 12s 24ms/step - loss: 0.2493 - val_loss: 0.4775\n",
            "Epoch 18/20\n",
            "500/500 [==============================] - 12s 24ms/step - loss: 0.2481 - val_loss: 0.4687\n",
            "Epoch 19/20\n",
            "500/500 [==============================] - 12s 24ms/step - loss: 0.2448 - val_loss: 0.4710\n",
            "Epoch 20/20\n",
            "500/500 [==============================] - 12s 24ms/step - loss: 0.2441 - val_loss: 0.4687\n"
          ],
          "name": "stdout"
        }
      ]
    },
    {
      "cell_type": "code",
      "metadata": {
        "id": "c5rpkdPehFxj",
        "outputId": "d290a9ae-2eee-47b2-87fe-d113918a706a",
        "colab": {
          "base_uri": "https://localhost:8080/",
          "height": 320
        }
      },
      "source": [
        "# See loss curves\n",
        "fig = plt.figure(figsize=(12, 5))\n",
        "epochs = range(20)\n",
        "loss = history.history['loss']\n",
        "val_loss = history.history['val_loss']\n",
        "plt.plot(epochs, loss, 'bo', label='Training loss')\n",
        "plt.plot(epochs, val_loss, 'b', label='Validation loss')\n",
        "plt.show();"
      ],
      "execution_count": 6,
      "outputs": [
        {
          "output_type": "display_data",
          "data": {
            "image/png": "[encoded data removed]",
            "text/plain": [
              "<Figure size 864x360 with 1 Axes>"
            ]
          },
          "metadata": {
            "tags": [],
            "needs_background": "light"
          }
        }
      ]
    },
    {
      "cell_type": "code",
      "metadata": {
        "id": "Lx_HFiL5irTW"
      },
      "source": [
        "# List 6-48: Higher resolution Data generators\n",
        "lookback = 720\n",
        "step = 3\n",
        "delay = 144\n",
        "batch_size = 128\n",
        "some_args = {'lookback': lookback, 'delay': delay, 'batch_size': batch_size, 'step': step}\n",
        "\n",
        "train_gen  = generator(float_data, min_index=0, max_index=200000, shuffle=True, **some_args)\n",
        "val_gen = generator(float_data, min_index=200001, max_index=300000, **some_args)\n",
        "test_gen = generator(float_data, min_index=300001, max_index=None, **some_args)\n",
        "\n",
        "val_steps = (300000 - 200001 - lookback) // batch_size\n",
        "test_steps = (len(float_data) - 300001 - lookback) // batch_size"
      ],
      "execution_count": 7,
      "outputs": []
    },
    {
      "cell_type": "code",
      "metadata": {
        "id": "A1PG8p6DjFaS",
        "outputId": "c7345e3e-f48e-4b03-9df7-8f2e2f7b3ddf",
        "colab": {
          "base_uri": "https://localhost:8080/"
        }
      },
      "source": [
        "# List 6-49: 1D CNN & GRU\n",
        "from tensorflow.keras.layers import GRU\n",
        "inputs = Input(shape=(None, float_data.shape[-1]))\n",
        "x = Conv1D(32, 5, activation='relu')(inputs)\n",
        "x = MaxPooling1D(3)(x)\n",
        "x = Conv1D(32, 5, activation='relu')(x)\n",
        "x = GRU(32, dropout=0.1, recurrent_dropout=0.5)(x)\n",
        "prediction = Dense(1)(x)\n",
        "\n",
        "model = Model(inputs=inputs, outputs=prediction)\n",
        "model.compile(optimizer=RMSprop(), loss='mae')\n",
        "history = model.fit(train_gen, steps_per_epoch=500, epochs=20, validation_data=val_gen, validation_steps=val_steps)"
      ],
      "execution_count": 8,
      "outputs": [
        {
          "output_type": "stream",
          "text": [
            "WARNING:tensorflow:Layer gru will not use cuDNN kernel since it doesn't meet the cuDNN kernel criteria. It will use generic GPU kernel as fallback when running on GPU\n",
            "Epoch 1/20\n",
            "500/500 [==============================] - 143s 286ms/step - loss: 0.3322 - val_loss: 0.2839\n",
            "Epoch 2/20\n",
            "500/500 [==============================] - 142s 283ms/step - loss: 0.2983 - val_loss: 0.2916\n",
            "Epoch 3/20\n",
            "500/500 [==============================] - 143s 286ms/step - loss: 0.2839 - val_loss: 0.2748\n",
            "Epoch 4/20\n",
            "500/500 [==============================] - 144s 288ms/step - loss: 0.2746 - val_loss: 0.2745\n",
            "Epoch 5/20\n",
            "500/500 [==============================] - 144s 287ms/step - loss: 0.2671 - val_loss: 0.2746\n",
            "Epoch 6/20\n",
            "500/500 [==============================] - 141s 283ms/step - loss: 0.2580 - val_loss: 0.2789\n",
            "Epoch 7/20\n",
            "500/500 [==============================] - 140s 280ms/step - loss: 0.2519 - val_loss: 0.2750\n",
            "Epoch 8/20\n",
            "500/500 [==============================] - 141s 283ms/step - loss: 0.2481 - val_loss: 0.2867\n",
            "Epoch 9/20\n",
            "500/500 [==============================] - 143s 285ms/step - loss: 0.2428 - val_loss: 0.2818\n",
            "Epoch 10/20\n",
            "500/500 [==============================] - 142s 285ms/step - loss: 0.2353 - val_loss: 0.2886\n",
            "Epoch 11/20\n",
            "500/500 [==============================] - 142s 284ms/step - loss: 0.2313 - val_loss: 0.2935\n",
            "Epoch 12/20\n",
            "500/500 [==============================] - 142s 283ms/step - loss: 0.2265 - val_loss: 0.3039\n",
            "Epoch 13/20\n",
            "500/500 [==============================] - 141s 282ms/step - loss: 0.2233 - val_loss: 0.3050\n",
            "Epoch 14/20\n",
            "500/500 [==============================] - 141s 281ms/step - loss: 0.2179 - val_loss: 0.3088\n",
            "Epoch 15/20\n",
            "500/500 [==============================] - 141s 281ms/step - loss: 0.2156 - val_loss: 0.3120\n",
            "Epoch 16/20\n",
            "500/500 [==============================] - 142s 283ms/step - loss: 0.2131 - val_loss: 0.3060\n",
            "Epoch 17/20\n",
            "500/500 [==============================] - 142s 284ms/step - loss: 0.2084 - val_loss: 0.3148\n",
            "Epoch 18/20\n",
            "500/500 [==============================] - 143s 286ms/step - loss: 0.2076 - val_loss: 0.3157\n",
            "Epoch 19/20\n",
            "500/500 [==============================] - 148s 296ms/step - loss: 0.2045 - val_loss: 0.3165\n",
            "Epoch 20/20\n",
            "500/500 [==============================] - 147s 294ms/step - loss: 0.2023 - val_loss: 0.3157\n"
          ],
          "name": "stdout"
        }
      ]
    },
    {
      "cell_type": "code",
      "metadata": {
        "id": "dBwlC0oRjNHr",
        "outputId": "129c9b1c-a576-43c6-92a3-17c9d33eba5b",
        "colab": {
          "base_uri": "https://localhost:8080/",
          "height": 320
        }
      },
      "source": [
        "# See loss curves\n",
        "fig = plt.figure(figsize=(12, 5))\n",
        "epochs = range(20)\n",
        "loss = history.history['loss']\n",
        "val_loss = history.history['val_loss']\n",
        "plt.plot(epochs, loss, 'bo', label='Training loss')\n",
        "plt.plot(epochs, val_loss, 'b', label='Validation loss')\n",
        "plt.show();"
      ],
      "execution_count": 9,
      "outputs": [
        {
          "output_type": "display_data",
          "data": {
            "image/png": "[encoded data removed]",
            "text/plain": [
              "<Figure size 864x360 with 1 Axes>"
            ]
          },
          "metadata": {
            "tags": [],
            "needs_background": "light"
          }
        }
      ]
    }
  ]
}