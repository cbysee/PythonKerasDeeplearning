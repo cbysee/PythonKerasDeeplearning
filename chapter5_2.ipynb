{
  "nbformat": 4,
  "nbformat_minor": 0,
  "metadata": {
    "colab": {
      "name": "chapter5-2.ipynb",
      "provenance": [],
      "collapsed_sections": [],
      "toc_visible": true,
      "mount_file_id": "1UflK7qCAl4xPwiJgqhGO-lO3nwfy608F",
      "authorship_tag": "ABX9TyMlIUii6kyBWTpJRfzSXTGs",
      "include_colab_link": true
    },
    "kernelspec": {
      "name": "python3",
      "display_name": "Python 3"
    },
    "accelerator": "GPU"
  },
  "cells": [
    {
      "cell_type": "markdown",
      "metadata": {
        "id": "view-in-github",
        "colab_type": "text"
      },
      "source": [
        "<a href=\"https://colab.research.google.com/github/CobaMasa/PythonKerasDeeplearning/blob/main/chapter5_2.ipynb\" target=\"_parent\"><img src=\"https://colab.research.google.com/assets/colab-badge.svg\" alt=\"Open In Colab\"/></a>"
      ]
    },
    {
      "cell_type": "markdown",
      "metadata": {
        "id": "50HMDfJUQE4o"
      },
      "source": [
        "# Chapter5: Deep Learning for Computer Vision\n",
        "Contents:\n",
        "- Overview of CNN\n",
        "- How to handle overfitting problems\n",
        "    - Data augmentation\n",
        "    - Using a pre-trained CNN\n",
        "    - Fine-tuning pre-trained model\n",
        "- Visualization of what CNN learned from data & how it got to the conclusion."
      ]
    },
    {
      "cell_type": "markdown",
      "metadata": {
        "id": "SIaKoMZRQLn7"
      },
      "source": [
        "## - How to handle overfitting problems\n",
        "### Using a pre-trained CNN"
      ]
    },
    {
      "cell_type": "code",
      "metadata": {
        "id": "56CjkxUeQB-Q",
        "outputId": "77cf9cb4-e33a-420c-b6ef-e24a601eefe1",
        "colab": {
          "base_uri": "https://localhost:8080/",
          "height": 816
        }
      },
      "source": [
        "from tensorflow.keras.applications import VGG16\n",
        "conv_base = VGG16(weights='imagenet', include_top=False, input_shape=(150, 150, 3))\n",
        "display(conv_base.summary())"
      ],
      "execution_count": 1,
      "outputs": [
        {
          "output_type": "stream",
          "text": [
            "Model: \"vgg16\"\n",
            "_________________________________________________________________\n",
            "Layer (type)                 Output Shape              Param #   \n",
            "=================================================================\n",
            "input_1 (InputLayer)         [(None, 150, 150, 3)]     0         \n",
            "_________________________________________________________________\n",
            "block1_conv1 (Conv2D)        (None, 150, 150, 64)      1792      \n",
            "_________________________________________________________________\n",
            "block1_conv2 (Conv2D)        (None, 150, 150, 64)      36928     \n",
            "_________________________________________________________________\n",
            "block1_pool (MaxPooling2D)   (None, 75, 75, 64)        0         \n",
            "_________________________________________________________________\n",
            "block2_conv1 (Conv2D)        (None, 75, 75, 128)       73856     \n",
            "_________________________________________________________________\n",
            "block2_conv2 (Conv2D)        (None, 75, 75, 128)       147584    \n",
            "_________________________________________________________________\n",
            "block2_pool (MaxPooling2D)   (None, 37, 37, 128)       0         \n",
            "_________________________________________________________________\n",
            "block3_conv1 (Conv2D)        (None, 37, 37, 256)       295168    \n",
            "_________________________________________________________________\n",
            "block3_conv2 (Conv2D)        (None, 37, 37, 256)       590080    \n",
            "_________________________________________________________________\n",
            "block3_conv3 (Conv2D)        (None, 37, 37, 256)       590080    \n",
            "_________________________________________________________________\n",
            "block3_pool (MaxPooling2D)   (None, 18, 18, 256)       0         \n",
            "_________________________________________________________________\n",
            "block4_conv1 (Conv2D)        (None, 18, 18, 512)       1180160   \n",
            "_________________________________________________________________\n",
            "block4_conv2 (Conv2D)        (None, 18, 18, 512)       2359808   \n",
            "_________________________________________________________________\n",
            "block4_conv3 (Conv2D)        (None, 18, 18, 512)       2359808   \n",
            "_________________________________________________________________\n",
            "block4_pool (MaxPooling2D)   (None, 9, 9, 512)         0         \n",
            "_________________________________________________________________\n",
            "block5_conv1 (Conv2D)        (None, 9, 9, 512)         2359808   \n",
            "_________________________________________________________________\n",
            "block5_conv2 (Conv2D)        (None, 9, 9, 512)         2359808   \n",
            "_________________________________________________________________\n",
            "block5_conv3 (Conv2D)        (None, 9, 9, 512)         2359808   \n",
            "_________________________________________________________________\n",
            "block5_pool (MaxPooling2D)   (None, 4, 4, 512)         0         \n",
            "=================================================================\n",
            "Total params: 14,714,688\n",
            "Trainable params: 14,714,688\n",
            "Non-trainable params: 0\n",
            "_________________________________________________________________\n"
          ],
          "name": "stdout"
        },
        {
          "output_type": "display_data",
          "data": {
            "text/plain": [
              "None"
            ]
          },
          "metadata": {
            "tags": []
          }
        }
      ]
    },
    {
      "cell_type": "code",
      "metadata": {
        "id": "xTTFrKilS6iB",
        "outputId": "b8b5a59a-df2c-45c1-8dde-493072690469",
        "colab": {
          "base_uri": "https://localhost:8080/"
        }
      },
      "source": [
        "# List 5-17: Feature extraction with pre-trained CNN\n",
        "import os\n",
        "import numpy as np\n",
        "from tensorflow.keras.preprocessing.image import ImageDataGenerator\n",
        "\n",
        "base_dir = 'drive/My Drive/Study/PythonKeras/data/cats_and_dogs_small'\n",
        "train_dir = os.path.join(base_dir, 'train')\n",
        "validation_dir = os.path.join(base_dir, 'validation')\n",
        "test_dir = os.path.join(base_dir, 'test')\n",
        "\n",
        "datagen = ImageDataGenerator(rescale=1/255.)\n",
        "batch_size=20\n",
        "\n",
        "def extract_features(directory, sample_count):\n",
        "    features = np.zeros(shape=(sample_count, 4, 4, 512))\n",
        "    labels = np.zeros(shape=(sample_count))\n",
        "    generator = datagen.flow_from_directory(directory,\n",
        "                                            target_size=(150, 150),\n",
        "                                            batch_size=batch_size,\n",
        "                                            class_mode='binary')\n",
        "    \n",
        "    i = 0\n",
        "    for input_batch, labels_batch in generator:\n",
        "        feature_batch = conv_base.predict(input_batch)\n",
        "        features[i * batch_size: (i+1) * batch_size] = feature_batch\n",
        "        labels[i*batch_size: (i+1)*batch_size] = labels_batch\n",
        "        i += 1\n",
        "        if i * batch_size >= sample_count:\n",
        "            break\n",
        "    \n",
        "    return features, labels\n",
        "\n",
        "train_features, train_labels = extract_features(train_dir, 2000)\n",
        "validation_features, validation_labels = extract_features(validation_dir, 1000)\n",
        "test_features, test_labels = extract_features(test_dir, 1000)"
      ],
      "execution_count": 2,
      "outputs": [
        {
          "output_type": "stream",
          "text": [
            "Found 2000 images belonging to 2 classes.\n",
            "Found 1000 images belonging to 2 classes.\n",
            "Found 1000 images belonging to 2 classes.\n"
          ],
          "name": "stdout"
        }
      ]
    },
    {
      "cell_type": "code",
      "metadata": {
        "id": "w6esXLvUoaAu"
      },
      "source": [
        "# reshape data to adjust for dense layers\n",
        "train_features = train_features.reshape(len(train_features), -1)\n",
        "validation_features = validation_features.reshape(len(validation_features), -1)\n",
        "test_features = test_features.reshape(len(test_features), -1)"
      ],
      "execution_count": 3,
      "outputs": []
    },
    {
      "cell_type": "code",
      "metadata": {
        "id": "1O3E2irIT6bA",
        "outputId": "9f6ba1fb-ef5f-4e57-9786-e12e9f2f94b1",
        "colab": {
          "base_uri": "https://localhost:8080/"
        }
      },
      "source": [
        "## Unable to use data augmentation\n",
        "# List 5-18: Define fully connected layer and train it (with functional API)\n",
        "from tensorflow.keras.layers import Dense, Dropout, Input, Flatten\n",
        "from tensorflow.keras import optimizers\n",
        "from tensorflow.keras.models import Model\n",
        "\n",
        "inputs = Input(train_features.shape[1])\n",
        "x = Dense(256, activation='relu')(inputs)\n",
        "x = Dropout(0.5)(x)\n",
        "prediction = Dense(1, activation='sigmoid')(x)\n",
        "\n",
        "model = Model(inputs=inputs, outputs=prediction)\n",
        "model.compile(optimizer=optimizers.RMSprop(lr=2e-5), loss='binary_crossentropy', metrics=['acc'])\n",
        "\n",
        "history = model.fit(train_features, train_labels,epochs=30, batch_size=20,\n",
        "                    validation_data=(validation_features, validation_labels))"
      ],
      "execution_count": 4,
      "outputs": [
        {
          "output_type": "stream",
          "text": [
            "Epoch 1/30\n",
            "100/100 [==============================] - 1s 7ms/step - loss: 0.6134 - acc: 0.6530 - val_loss: 0.4540 - val_acc: 0.8200\n",
            "Epoch 2/30\n",
            "100/100 [==============================] - 0s 5ms/step - loss: 0.4308 - acc: 0.8050 - val_loss: 0.3657 - val_acc: 0.8710\n",
            "Epoch 3/30\n",
            "100/100 [==============================] - 0s 5ms/step - loss: 0.3632 - acc: 0.8410 - val_loss: 0.3292 - val_acc: 0.8710\n",
            "Epoch 4/30\n",
            "100/100 [==============================] - 1s 5ms/step - loss: 0.3167 - acc: 0.8620 - val_loss: 0.3066 - val_acc: 0.8760\n",
            "Epoch 5/30\n",
            "100/100 [==============================] - 1s 5ms/step - loss: 0.2856 - acc: 0.8885 - val_loss: 0.2902 - val_acc: 0.8820\n",
            "Epoch 6/30\n",
            "100/100 [==============================] - 0s 5ms/step - loss: 0.2657 - acc: 0.8945 - val_loss: 0.2744 - val_acc: 0.8980\n",
            "Epoch 7/30\n",
            "100/100 [==============================] - 1s 5ms/step - loss: 0.2420 - acc: 0.9020 - val_loss: 0.2635 - val_acc: 0.8960\n",
            "Epoch 8/30\n",
            "100/100 [==============================] - 1s 5ms/step - loss: 0.2183 - acc: 0.9180 - val_loss: 0.2627 - val_acc: 0.8960\n",
            "Epoch 9/30\n",
            "100/100 [==============================] - 1s 5ms/step - loss: 0.2155 - acc: 0.9125 - val_loss: 0.2548 - val_acc: 0.8960\n",
            "Epoch 10/30\n",
            "100/100 [==============================] - 1s 5ms/step - loss: 0.2036 - acc: 0.9270 - val_loss: 0.2487 - val_acc: 0.8990\n",
            "Epoch 11/30\n",
            "100/100 [==============================] - 1s 5ms/step - loss: 0.1957 - acc: 0.9270 - val_loss: 0.2458 - val_acc: 0.9020\n",
            "Epoch 12/30\n",
            "100/100 [==============================] - 1s 5ms/step - loss: 0.1851 - acc: 0.9320 - val_loss: 0.2428 - val_acc: 0.9030\n",
            "Epoch 13/30\n",
            "100/100 [==============================] - 1s 5ms/step - loss: 0.1765 - acc: 0.9365 - val_loss: 0.2430 - val_acc: 0.9000\n",
            "Epoch 14/30\n",
            "100/100 [==============================] - 1s 5ms/step - loss: 0.1717 - acc: 0.9385 - val_loss: 0.2397 - val_acc: 0.9050\n",
            "Epoch 15/30\n",
            "100/100 [==============================] - 1s 6ms/step - loss: 0.1600 - acc: 0.9405 - val_loss: 0.2456 - val_acc: 0.9000\n",
            "Epoch 16/30\n",
            "100/100 [==============================] - 1s 6ms/step - loss: 0.1559 - acc: 0.9410 - val_loss: 0.2392 - val_acc: 0.9030\n",
            "Epoch 17/30\n",
            "100/100 [==============================] - 1s 6ms/step - loss: 0.1538 - acc: 0.9480 - val_loss: 0.2404 - val_acc: 0.9010\n",
            "Epoch 18/30\n",
            "100/100 [==============================] - 1s 6ms/step - loss: 0.1461 - acc: 0.9510 - val_loss: 0.2386 - val_acc: 0.9020\n",
            "Epoch 19/30\n",
            "100/100 [==============================] - 1s 5ms/step - loss: 0.1331 - acc: 0.9560 - val_loss: 0.2364 - val_acc: 0.9010\n",
            "Epoch 20/30\n",
            "100/100 [==============================] - 1s 6ms/step - loss: 0.1313 - acc: 0.9515 - val_loss: 0.2366 - val_acc: 0.9020\n",
            "Epoch 21/30\n",
            "100/100 [==============================] - 1s 5ms/step - loss: 0.1285 - acc: 0.9570 - val_loss: 0.2385 - val_acc: 0.9020\n",
            "Epoch 22/30\n",
            "100/100 [==============================] - 1s 6ms/step - loss: 0.1163 - acc: 0.9635 - val_loss: 0.2360 - val_acc: 0.9010\n",
            "Epoch 23/30\n",
            "100/100 [==============================] - 1s 6ms/step - loss: 0.1144 - acc: 0.9595 - val_loss: 0.2355 - val_acc: 0.9000\n",
            "Epoch 24/30\n",
            "100/100 [==============================] - 1s 6ms/step - loss: 0.1119 - acc: 0.9715 - val_loss: 0.2378 - val_acc: 0.9030\n",
            "Epoch 25/30\n",
            "100/100 [==============================] - 1s 6ms/step - loss: 0.1037 - acc: 0.9670 - val_loss: 0.2365 - val_acc: 0.9040\n",
            "Epoch 26/30\n",
            "100/100 [==============================] - 1s 6ms/step - loss: 0.1061 - acc: 0.9680 - val_loss: 0.2370 - val_acc: 0.9020\n",
            "Epoch 27/30\n",
            "100/100 [==============================] - 1s 6ms/step - loss: 0.0971 - acc: 0.9700 - val_loss: 0.2370 - val_acc: 0.9020\n",
            "Epoch 28/30\n",
            "100/100 [==============================] - 1s 6ms/step - loss: 0.0937 - acc: 0.9700 - val_loss: 0.2410 - val_acc: 0.9040\n",
            "Epoch 29/30\n",
            "100/100 [==============================] - 1s 6ms/step - loss: 0.0901 - acc: 0.9760 - val_loss: 0.2400 - val_acc: 0.9020\n",
            "Epoch 30/30\n",
            "100/100 [==============================] - 1s 6ms/step - loss: 0.0837 - acc: 0.9780 - val_loss: 0.2492 - val_acc: 0.9050\n"
          ],
          "name": "stdout"
        }
      ]
    },
    {
      "cell_type": "code",
      "metadata": {
        "id": "GjlO55hepGId",
        "outputId": "e0dd9f08-3649-42e2-a380-7d87bb6e0e10",
        "colab": {
          "base_uri": "https://localhost:8080/",
          "height": 297
        }
      },
      "source": [
        "# List 5-19: Plotting the results\n",
        "import matplotlib.pyplot as plt\n",
        "n_epochs = range(1, 31)\n",
        "\n",
        "train_loss = history.history['loss']\n",
        "val_loss = history.history['val_loss']\n",
        "train_acc = history.history['acc']\n",
        "val_acc = history.history['val_acc']\n",
        "\n",
        "fig, ax = plt.subplots(1, 2, figsize=(14, 4))\n",
        "ax[0].plot(n_epochs, train_loss, 'bo', label='Training loss')\n",
        "ax[0].plot(n_epochs, val_loss, label='Validaion loss')\n",
        "ax[0].legend(fontsize=15)\n",
        "\n",
        "ax[1].plot(n_epochs, train_acc, 'bo', label='Training accuary')\n",
        "ax[1].plot(n_epochs, val_acc, label='Validation accuracy')\n",
        "ax[1].legend(fontsize=15)\n",
        "plt.tight_layout()\n",
        "plt.show();"
      ],
      "execution_count": 5,
      "outputs": [
        {
          "output_type": "display_data",
          "data": {
            "image/png": "[encoded data removed]",
            "text/plain": [
              "<Figure size 1008x288 with 2 Axes>"
            ]
          },
          "metadata": {
            "tags": [],
            "needs_background": "light"
          }
        }
      ]
    },
    {
      "cell_type": "code",
      "metadata": {
        "id": "vE3L_nujrxSX",
        "outputId": "49b03554-8652-474d-e5e4-365812a1a69b",
        "colab": {
          "base_uri": "https://localhost:8080/",
          "height": 952
        }
      },
      "source": [
        "## able to use Data augmentation\n",
        "# List 5-20: Add fully connected layer to convolutional base\n",
        "x = Flatten()(conv_base.output)\n",
        "x = Dense(256, activation='relu')(x)\n",
        "x = Dropout(0.5)(x)\n",
        "prediction = Dense(1, activation='sigmoid')(x)\n",
        "\n",
        "model = Model(inputs=conv_base.input, outputs=prediction)\n",
        "conv_base.trainable = False\n",
        "model.compile(optimizer=optimizers.RMSprop(lr=2e-5), loss='binary_crossentropy', metrics=['acc'])\n",
        "display(model.summary())"
      ],
      "execution_count": 6,
      "outputs": [
        {
          "output_type": "stream",
          "text": [
            "Model: \"functional_3\"\n",
            "_________________________________________________________________\n",
            "Layer (type)                 Output Shape              Param #   \n",
            "=================================================================\n",
            "input_1 (InputLayer)         [(None, 150, 150, 3)]     0         \n",
            "_________________________________________________________________\n",
            "block1_conv1 (Conv2D)        (None, 150, 150, 64)      1792      \n",
            "_________________________________________________________________\n",
            "block1_conv2 (Conv2D)        (None, 150, 150, 64)      36928     \n",
            "_________________________________________________________________\n",
            "block1_pool (MaxPooling2D)   (None, 75, 75, 64)        0         \n",
            "_________________________________________________________________\n",
            "block2_conv1 (Conv2D)        (None, 75, 75, 128)       73856     \n",
            "_________________________________________________________________\n",
            "block2_conv2 (Conv2D)        (None, 75, 75, 128)       147584    \n",
            "_________________________________________________________________\n",
            "block2_pool (MaxPooling2D)   (None, 37, 37, 128)       0         \n",
            "_________________________________________________________________\n",
            "block3_conv1 (Conv2D)        (None, 37, 37, 256)       295168    \n",
            "_________________________________________________________________\n",
            "block3_conv2 (Conv2D)        (None, 37, 37, 256)       590080    \n",
            "_________________________________________________________________\n",
            "block3_conv3 (Conv2D)        (None, 37, 37, 256)       590080    \n",
            "_________________________________________________________________\n",
            "block3_pool (MaxPooling2D)   (None, 18, 18, 256)       0         \n",
            "_________________________________________________________________\n",
            "block4_conv1 (Conv2D)        (None, 18, 18, 512)       1180160   \n",
            "_________________________________________________________________\n",
            "block4_conv2 (Conv2D)        (None, 18, 18, 512)       2359808   \n",
            "_________________________________________________________________\n",
            "block4_conv3 (Conv2D)        (None, 18, 18, 512)       2359808   \n",
            "_________________________________________________________________\n",
            "block4_pool (MaxPooling2D)   (None, 9, 9, 512)         0         \n",
            "_________________________________________________________________\n",
            "block5_conv1 (Conv2D)        (None, 9, 9, 512)         2359808   \n",
            "_________________________________________________________________\n",
            "block5_conv2 (Conv2D)        (None, 9, 9, 512)         2359808   \n",
            "_________________________________________________________________\n",
            "block5_conv3 (Conv2D)        (None, 9, 9, 512)         2359808   \n",
            "_________________________________________________________________\n",
            "block5_pool (MaxPooling2D)   (None, 4, 4, 512)         0         \n",
            "_________________________________________________________________\n",
            "flatten (Flatten)            (None, 8192)              0         \n",
            "_________________________________________________________________\n",
            "dense_2 (Dense)              (None, 256)               2097408   \n",
            "_________________________________________________________________\n",
            "dropout_1 (Dropout)          (None, 256)               0         \n",
            "_________________________________________________________________\n",
            "dense_3 (Dense)              (None, 1)                 257       \n",
            "=================================================================\n",
            "Total params: 16,812,353\n",
            "Trainable params: 2,097,665\n",
            "Non-trainable params: 14,714,688\n",
            "_________________________________________________________________\n"
          ],
          "name": "stdout"
        },
        {
          "output_type": "display_data",
          "data": {
            "text/plain": [
              "None"
            ]
          },
          "metadata": {
            "tags": []
          }
        }
      ]
    },
    {
      "cell_type": "code",
      "metadata": {
        "id": "-tTdqRn_rz4u",
        "outputId": "d1d72298-5042-4693-fa16-797cd0f72b5b",
        "colab": {
          "base_uri": "https://localhost:8080/"
        }
      },
      "source": [
        "# List 5-21: Train whole network\n",
        "train_datagen = ImageDataGenerator(\n",
        "    rescale=1/255.,\n",
        "    rotation_range=40,\n",
        "    width_shift_range=0.2,\n",
        "    height_shift_range=0.2,\n",
        "    shear_range=0.2,\n",
        "    zoom_range=0.2,\n",
        "    horizontal_flip=True,\n",
        "    fill_mode='nearest'\n",
        ")\n",
        "test_datagen = ImageDataGenerator(rescale=1/255.)\n",
        "\n",
        "train_generator = train_datagen.flow_from_directory(\n",
        "    directory=train_dir,\n",
        "    target_size=(150, 150),\n",
        "    batch_size=20,\n",
        "    class_mode='binary'\n",
        ")\n",
        "\n",
        "validation_generator = test_datagen.flow_from_directory(\n",
        "    directory=validation_dir,\n",
        "    target_size=(150, 150),\n",
        "    class_mode='binary',\n",
        "    batch_size=20\n",
        ")\n",
        "\n",
        "history = model.fit(train_generator,\n",
        "                    epochs=30,\n",
        "                    steps_per_epoch=100,\n",
        "                    validation_data=validation_generator,\n",
        "                    validation_steps=50, verbose=2)"
      ],
      "execution_count": 7,
      "outputs": [
        {
          "output_type": "stream",
          "text": [
            "Found 2000 images belonging to 2 classes.\n",
            "Found 1000 images belonging to 2 classes.\n",
            "Epoch 1/30\n",
            "100/100 - 28s - loss: 0.7107 - acc: 0.5660 - val_loss: 0.5233 - val_acc: 0.7830\n",
            "Epoch 2/30\n",
            "100/100 - 28s - loss: 0.5734 - acc: 0.7125 - val_loss: 0.4354 - val_acc: 0.8300\n",
            "Epoch 3/30\n",
            "100/100 - 28s - loss: 0.5214 - acc: 0.7430 - val_loss: 0.3869 - val_acc: 0.8490\n",
            "Epoch 4/30\n",
            "100/100 - 28s - loss: 0.4716 - acc: 0.7815 - val_loss: 0.3594 - val_acc: 0.8480\n",
            "Epoch 5/30\n",
            "100/100 - 28s - loss: 0.4533 - acc: 0.7855 - val_loss: 0.3428 - val_acc: 0.8660\n",
            "Epoch 6/30\n",
            "100/100 - 28s - loss: 0.4334 - acc: 0.7990 - val_loss: 0.3348 - val_acc: 0.8660\n",
            "Epoch 7/30\n",
            "100/100 - 28s - loss: 0.4255 - acc: 0.8070 - val_loss: 0.3119 - val_acc: 0.8830\n",
            "Epoch 8/30\n",
            "100/100 - 28s - loss: 0.4101 - acc: 0.8105 - val_loss: 0.3018 - val_acc: 0.8820\n",
            "Epoch 9/30\n",
            "100/100 - 28s - loss: 0.3952 - acc: 0.8145 - val_loss: 0.2983 - val_acc: 0.8800\n",
            "Epoch 10/30\n",
            "100/100 - 28s - loss: 0.3816 - acc: 0.8320 - val_loss: 0.2889 - val_acc: 0.8880\n",
            "Epoch 11/30\n",
            "100/100 - 28s - loss: 0.3863 - acc: 0.8200 - val_loss: 0.2846 - val_acc: 0.8860\n",
            "Epoch 12/30\n",
            "100/100 - 28s - loss: 0.3862 - acc: 0.8260 - val_loss: 0.2910 - val_acc: 0.8860\n",
            "Epoch 13/30\n",
            "100/100 - 28s - loss: 0.3682 - acc: 0.8380 - val_loss: 0.2779 - val_acc: 0.8900\n",
            "Epoch 14/30\n",
            "100/100 - 28s - loss: 0.3673 - acc: 0.8375 - val_loss: 0.2746 - val_acc: 0.8910\n",
            "Epoch 15/30\n",
            "100/100 - 28s - loss: 0.3704 - acc: 0.8300 - val_loss: 0.2744 - val_acc: 0.8920\n",
            "Epoch 16/30\n",
            "100/100 - 28s - loss: 0.3631 - acc: 0.8345 - val_loss: 0.2688 - val_acc: 0.8900\n",
            "Epoch 17/30\n",
            "100/100 - 28s - loss: 0.3528 - acc: 0.8370 - val_loss: 0.2670 - val_acc: 0.8890\n",
            "Epoch 18/30\n",
            "100/100 - 28s - loss: 0.3668 - acc: 0.8225 - val_loss: 0.2670 - val_acc: 0.8900\n",
            "Epoch 19/30\n",
            "100/100 - 28s - loss: 0.3482 - acc: 0.8500 - val_loss: 0.2651 - val_acc: 0.8930\n",
            "Epoch 20/30\n",
            "100/100 - 28s - loss: 0.3379 - acc: 0.8530 - val_loss: 0.2618 - val_acc: 0.8890\n",
            "Epoch 21/30\n",
            "100/100 - 28s - loss: 0.3394 - acc: 0.8535 - val_loss: 0.2580 - val_acc: 0.8930\n",
            "Epoch 22/30\n",
            "100/100 - 28s - loss: 0.3356 - acc: 0.8480 - val_loss: 0.2592 - val_acc: 0.9000\n",
            "Epoch 23/30\n",
            "100/100 - 28s - loss: 0.3337 - acc: 0.8595 - val_loss: 0.2578 - val_acc: 0.8940\n",
            "Epoch 24/30\n",
            "100/100 - 27s - loss: 0.3366 - acc: 0.8500 - val_loss: 0.2571 - val_acc: 0.9010\n",
            "Epoch 25/30\n",
            "100/100 - 28s - loss: 0.3432 - acc: 0.8500 - val_loss: 0.2553 - val_acc: 0.8960\n",
            "Epoch 26/30\n",
            "100/100 - 28s - loss: 0.3402 - acc: 0.8475 - val_loss: 0.2550 - val_acc: 0.9020\n",
            "Epoch 27/30\n",
            "100/100 - 27s - loss: 0.3317 - acc: 0.8600 - val_loss: 0.2528 - val_acc: 0.8940\n",
            "Epoch 28/30\n",
            "100/100 - 28s - loss: 0.3430 - acc: 0.8515 - val_loss: 0.2522 - val_acc: 0.9010\n",
            "Epoch 29/30\n",
            "100/100 - 28s - loss: 0.3259 - acc: 0.8520 - val_loss: 0.2513 - val_acc: 0.8930\n",
            "Epoch 30/30\n",
            "100/100 - 28s - loss: 0.3140 - acc: 0.8670 - val_loss: 0.2500 - val_acc: 0.9010\n"
          ],
          "name": "stdout"
        }
      ]
    },
    {
      "cell_type": "code",
      "metadata": {
        "id": "FkkWSm86c1fX",
        "outputId": "594e5333-122f-402e-f639-0beffa9c500e",
        "colab": {
          "base_uri": "https://localhost:8080/",
          "height": 297
        }
      },
      "source": [
        "n_epochs = range(1, 31)\n",
        "\n",
        "train_loss = history.history['loss']\n",
        "val_loss = history.history['val_loss']\n",
        "train_acc = history.history['acc']\n",
        "val_acc = history.history['val_acc']\n",
        "\n",
        "fig, ax = plt.subplots(1, 2, figsize=(14, 4))\n",
        "ax[0].plot(n_epochs, train_loss, 'bo', label='Training loss')\n",
        "ax[0].plot(n_epochs, val_loss, label='Validaion loss')\n",
        "ax[0].legend(fontsize=15)\n",
        "\n",
        "ax[1].plot(n_epochs, train_acc, 'bo', label='Training accuary')\n",
        "ax[1].plot(n_epochs, val_acc, label='Validation accuracy')\n",
        "ax[1].legend(fontsize=15)\n",
        "plt.tight_layout()\n",
        "plt.show();"
      ],
      "execution_count": 8,
      "outputs": [
        {
          "output_type": "display_data",
          "data": {
            "image/png": "[encoded data removed]",
            "text/plain": [
              "<Figure size 1008x288 with 2 Axes>"
            ]
          },
          "metadata": {
            "tags": [],
            "needs_background": "light"
          }
        }
      ]
    },
    {
      "cell_type": "markdown",
      "metadata": {
        "id": "EMSQ6Z11mokk"
      },
      "source": [
        "### Fine-tuning pre-trained model\n",
        "steps:\n",
        "1. Add custom (ex.fully connected) network back of pre-trained model.\n",
        "2. Freeze weights in base network (which means pre-trained model)\n",
        "3. Train whole network.\n",
        "4. Defreeze some of frozen weights (or layers), and keep going.\n",
        "5. Fine tuned!!!"
      ]
    },
    {
      "cell_type": "code",
      "metadata": {
        "id": "EyCuc_3ThbC1",
        "outputId": "54b4992b-bb00-4de2-9a6a-0847de8bbdb6",
        "colab": {
          "base_uri": "https://localhost:8080/"
        }
      },
      "source": [
        "conv_base.summary()"
      ],
      "execution_count": 9,
      "outputs": [
        {
          "output_type": "stream",
          "text": [
            "Model: \"vgg16\"\n",
            "_________________________________________________________________\n",
            "Layer (type)                 Output Shape              Param #   \n",
            "=================================================================\n",
            "input_1 (InputLayer)         [(None, 150, 150, 3)]     0         \n",
            "_________________________________________________________________\n",
            "block1_conv1 (Conv2D)        (None, 150, 150, 64)      1792      \n",
            "_________________________________________________________________\n",
            "block1_conv2 (Conv2D)        (None, 150, 150, 64)      36928     \n",
            "_________________________________________________________________\n",
            "block1_pool (MaxPooling2D)   (None, 75, 75, 64)        0         \n",
            "_________________________________________________________________\n",
            "block2_conv1 (Conv2D)        (None, 75, 75, 128)       73856     \n",
            "_________________________________________________________________\n",
            "block2_conv2 (Conv2D)        (None, 75, 75, 128)       147584    \n",
            "_________________________________________________________________\n",
            "block2_pool (MaxPooling2D)   (None, 37, 37, 128)       0         \n",
            "_________________________________________________________________\n",
            "block3_conv1 (Conv2D)        (None, 37, 37, 256)       295168    \n",
            "_________________________________________________________________\n",
            "block3_conv2 (Conv2D)        (None, 37, 37, 256)       590080    \n",
            "_________________________________________________________________\n",
            "block3_conv3 (Conv2D)        (None, 37, 37, 256)       590080    \n",
            "_________________________________________________________________\n",
            "block3_pool (MaxPooling2D)   (None, 18, 18, 256)       0         \n",
            "_________________________________________________________________\n",
            "block4_conv1 (Conv2D)        (None, 18, 18, 512)       1180160   \n",
            "_________________________________________________________________\n",
            "block4_conv2 (Conv2D)        (None, 18, 18, 512)       2359808   \n",
            "_________________________________________________________________\n",
            "block4_conv3 (Conv2D)        (None, 18, 18, 512)       2359808   \n",
            "_________________________________________________________________\n",
            "block4_pool (MaxPooling2D)   (None, 9, 9, 512)         0         \n",
            "_________________________________________________________________\n",
            "block5_conv1 (Conv2D)        (None, 9, 9, 512)         2359808   \n",
            "_________________________________________________________________\n",
            "block5_conv2 (Conv2D)        (None, 9, 9, 512)         2359808   \n",
            "_________________________________________________________________\n",
            "block5_conv3 (Conv2D)        (None, 9, 9, 512)         2359808   \n",
            "_________________________________________________________________\n",
            "block5_pool (MaxPooling2D)   (None, 4, 4, 512)         0         \n",
            "=================================================================\n",
            "Total params: 14,714,688\n",
            "Trainable params: 0\n",
            "Non-trainable params: 14,714,688\n",
            "_________________________________________________________________\n"
          ],
          "name": "stdout"
        }
      ]
    },
    {
      "cell_type": "code",
      "metadata": {
        "id": "cTBXo3xbpDbl",
        "outputId": "c5509a59-e70b-4ccc-cc26-48ca8e67464b",
        "colab": {
          "base_uri": "https://localhost:8080/"
        }
      },
      "source": [
        "# List5-22 & 23: Freeze layers from head to a specific layer\n",
        "conv_base.trainable = True\n",
        "for layer in conv_base.layers:\n",
        "    if 'block5' in layer.name:\n",
        "        layer.trainable = True\n",
        "    else:\n",
        "        layer.trainable = False\n",
        "\n",
        "model.compile(optimizer=optimizers.RMSprop(lr=1e-5), loss='binary_crossentropy', metrics=['acc'])\n",
        "history = model.fit(train_generator,\n",
        "                    steps_per_epoch=100,\n",
        "                    epochs=100,\n",
        "                    validation_data=validation_generator,\n",
        "                    validation_steps=50)"
      ],
      "execution_count": 10,
      "outputs": [
        {
          "output_type": "stream",
          "text": [
            "Epoch 1/100\n",
            "100/100 [==============================] - 30s 296ms/step - loss: 0.3171 - acc: 0.8610 - val_loss: 0.2247 - val_acc: 0.9080\n",
            "Epoch 2/100\n",
            "100/100 [==============================] - 29s 295ms/step - loss: 0.2824 - acc: 0.8795 - val_loss: 0.2229 - val_acc: 0.9150\n",
            "Epoch 3/100\n",
            "100/100 [==============================] - 29s 293ms/step - loss: 0.2470 - acc: 0.8955 - val_loss: 0.2029 - val_acc: 0.9190\n",
            "Epoch 4/100\n",
            "100/100 [==============================] - 29s 292ms/step - loss: 0.2395 - acc: 0.8960 - val_loss: 0.1913 - val_acc: 0.9210\n",
            "Epoch 5/100\n",
            "100/100 [==============================] - 29s 292ms/step - loss: 0.2303 - acc: 0.8970 - val_loss: 0.1818 - val_acc: 0.9230\n",
            "Epoch 6/100\n",
            "100/100 [==============================] - 30s 296ms/step - loss: 0.2135 - acc: 0.9155 - val_loss: 0.1787 - val_acc: 0.9300\n",
            "Epoch 7/100\n",
            "100/100 [==============================] - 29s 293ms/step - loss: 0.1829 - acc: 0.9215 - val_loss: 0.1931 - val_acc: 0.9280\n",
            "Epoch 8/100\n",
            "100/100 [==============================] - 29s 294ms/step - loss: 0.1945 - acc: 0.9230 - val_loss: 0.1829 - val_acc: 0.9250\n",
            "Epoch 9/100\n",
            "100/100 [==============================] - 30s 299ms/step - loss: 0.1877 - acc: 0.9170 - val_loss: 0.1672 - val_acc: 0.9330\n",
            "Epoch 10/100\n",
            "100/100 [==============================] - 30s 295ms/step - loss: 0.1875 - acc: 0.9300 - val_loss: 0.1698 - val_acc: 0.9310\n",
            "Epoch 11/100\n",
            "100/100 [==============================] - 30s 296ms/step - loss: 0.1638 - acc: 0.9300 - val_loss: 0.1733 - val_acc: 0.9320\n",
            "Epoch 12/100\n",
            "100/100 [==============================] - 30s 295ms/step - loss: 0.1732 - acc: 0.9235 - val_loss: 0.1635 - val_acc: 0.9360\n",
            "Epoch 13/100\n",
            "100/100 [==============================] - 29s 294ms/step - loss: 0.1326 - acc: 0.9440 - val_loss: 0.2595 - val_acc: 0.9120\n",
            "Epoch 14/100\n",
            "100/100 [==============================] - 29s 294ms/step - loss: 0.1402 - acc: 0.9460 - val_loss: 0.1686 - val_acc: 0.9360\n",
            "Epoch 15/100\n",
            "100/100 [==============================] - 29s 294ms/step - loss: 0.1474 - acc: 0.9425 - val_loss: 0.1790 - val_acc: 0.9380\n",
            "Epoch 16/100\n",
            "100/100 [==============================] - 30s 297ms/step - loss: 0.1381 - acc: 0.9465 - val_loss: 0.1650 - val_acc: 0.9380\n",
            "Epoch 17/100\n",
            "100/100 [==============================] - 29s 293ms/step - loss: 0.1175 - acc: 0.9515 - val_loss: 0.1920 - val_acc: 0.9310\n",
            "Epoch 18/100\n",
            "100/100 [==============================] - 29s 293ms/step - loss: 0.1200 - acc: 0.9560 - val_loss: 0.2035 - val_acc: 0.9330\n",
            "Epoch 19/100\n",
            "100/100 [==============================] - 29s 294ms/step - loss: 0.1058 - acc: 0.9600 - val_loss: 0.1656 - val_acc: 0.9400\n",
            "Epoch 20/100\n",
            "100/100 [==============================] - 30s 296ms/step - loss: 0.1174 - acc: 0.9535 - val_loss: 0.1702 - val_acc: 0.9370\n",
            "Epoch 21/100\n",
            "100/100 [==============================] - 29s 291ms/step - loss: 0.0984 - acc: 0.9620 - val_loss: 0.5760 - val_acc: 0.8600\n",
            "Epoch 22/100\n",
            "100/100 [==============================] - 29s 292ms/step - loss: 0.1176 - acc: 0.9495 - val_loss: 0.1831 - val_acc: 0.9340\n",
            "Epoch 23/100\n",
            "100/100 [==============================] - 29s 292ms/step - loss: 0.1140 - acc: 0.9505 - val_loss: 0.1675 - val_acc: 0.9390\n",
            "Epoch 24/100\n",
            "100/100 [==============================] - 29s 293ms/step - loss: 0.1017 - acc: 0.9595 - val_loss: 0.2066 - val_acc: 0.9300\n",
            "Epoch 25/100\n",
            "100/100 [==============================] - 29s 293ms/step - loss: 0.1028 - acc: 0.9615 - val_loss: 0.1709 - val_acc: 0.9330\n",
            "Epoch 26/100\n",
            "100/100 [==============================] - 29s 294ms/step - loss: 0.0930 - acc: 0.9605 - val_loss: 0.1953 - val_acc: 0.9320\n",
            "Epoch 27/100\n",
            "100/100 [==============================] - 30s 295ms/step - loss: 0.0817 - acc: 0.9710 - val_loss: 0.1711 - val_acc: 0.9370\n",
            "Epoch 28/100\n",
            "100/100 [==============================] - 29s 293ms/step - loss: 0.0864 - acc: 0.9695 - val_loss: 0.2592 - val_acc: 0.9180\n",
            "Epoch 29/100\n",
            "100/100 [==============================] - 29s 293ms/step - loss: 0.0921 - acc: 0.9675 - val_loss: 0.1834 - val_acc: 0.9340\n",
            "Epoch 30/100\n",
            "100/100 [==============================] - 30s 299ms/step - loss: 0.0755 - acc: 0.9715 - val_loss: 0.1544 - val_acc: 0.9360\n",
            "Epoch 31/100\n",
            "100/100 [==============================] - 29s 294ms/step - loss: 0.0874 - acc: 0.9675 - val_loss: 0.1730 - val_acc: 0.9360\n",
            "Epoch 32/100\n",
            "100/100 [==============================] - 29s 294ms/step - loss: 0.0699 - acc: 0.9705 - val_loss: 0.2749 - val_acc: 0.9230\n",
            "Epoch 33/100\n",
            "100/100 [==============================] - 29s 293ms/step - loss: 0.0881 - acc: 0.9655 - val_loss: 0.1969 - val_acc: 0.9350\n",
            "Epoch 34/100\n",
            "100/100 [==============================] - 29s 293ms/step - loss: 0.0714 - acc: 0.9750 - val_loss: 0.1744 - val_acc: 0.9370\n",
            "Epoch 35/100\n",
            "100/100 [==============================] - 29s 294ms/step - loss: 0.0741 - acc: 0.9715 - val_loss: 0.1752 - val_acc: 0.9380\n",
            "Epoch 36/100\n",
            "100/100 [==============================] - 29s 294ms/step - loss: 0.0552 - acc: 0.9765 - val_loss: 0.1885 - val_acc: 0.9390\n",
            "Epoch 37/100\n",
            "100/100 [==============================] - 30s 298ms/step - loss: 0.0589 - acc: 0.9790 - val_loss: 0.1965 - val_acc: 0.9350\n",
            "Epoch 38/100\n",
            "100/100 [==============================] - 29s 295ms/step - loss: 0.0670 - acc: 0.9750 - val_loss: 0.1800 - val_acc: 0.9370\n",
            "Epoch 39/100\n",
            "100/100 [==============================] - 29s 294ms/step - loss: 0.0596 - acc: 0.9760 - val_loss: 0.2674 - val_acc: 0.9290\n",
            "Epoch 40/100\n",
            "100/100 [==============================] - 30s 297ms/step - loss: 0.0600 - acc: 0.9770 - val_loss: 0.2455 - val_acc: 0.9290\n",
            "Epoch 41/100\n",
            "100/100 [==============================] - 30s 297ms/step - loss: 0.0539 - acc: 0.9785 - val_loss: 0.2103 - val_acc: 0.9380\n",
            "Epoch 42/100\n",
            "100/100 [==============================] - 30s 295ms/step - loss: 0.0589 - acc: 0.9755 - val_loss: 0.2340 - val_acc: 0.9320\n",
            "Epoch 43/100\n",
            "100/100 [==============================] - 29s 295ms/step - loss: 0.0461 - acc: 0.9825 - val_loss: 0.1957 - val_acc: 0.9380\n",
            "Epoch 44/100\n",
            "100/100 [==============================] - 29s 295ms/step - loss: 0.0595 - acc: 0.9770 - val_loss: 0.1830 - val_acc: 0.9390\n",
            "Epoch 45/100\n",
            "100/100 [==============================] - 30s 295ms/step - loss: 0.0510 - acc: 0.9860 - val_loss: 0.1999 - val_acc: 0.9350\n",
            "Epoch 46/100\n",
            "100/100 [==============================] - 30s 296ms/step - loss: 0.0591 - acc: 0.9780 - val_loss: 0.1915 - val_acc: 0.9390\n",
            "Epoch 47/100\n",
            "100/100 [==============================] - 30s 296ms/step - loss: 0.0506 - acc: 0.9805 - val_loss: 0.2410 - val_acc: 0.9290\n",
            "Epoch 48/100\n",
            "100/100 [==============================] - 29s 295ms/step - loss: 0.0504 - acc: 0.9770 - val_loss: 0.1837 - val_acc: 0.9380\n",
            "Epoch 49/100\n",
            "100/100 [==============================] - 29s 294ms/step - loss: 0.0491 - acc: 0.9830 - val_loss: 0.4939 - val_acc: 0.8970\n",
            "Epoch 50/100\n",
            "100/100 [==============================] - 30s 295ms/step - loss: 0.0477 - acc: 0.9830 - val_loss: 0.3015 - val_acc: 0.9270\n",
            "Epoch 51/100\n",
            "100/100 [==============================] - 30s 299ms/step - loss: 0.0494 - acc: 0.9795 - val_loss: 0.2164 - val_acc: 0.9310\n",
            "Epoch 52/100\n",
            "100/100 [==============================] - 29s 294ms/step - loss: 0.0428 - acc: 0.9860 - val_loss: 0.1985 - val_acc: 0.9320\n",
            "Epoch 53/100\n",
            "100/100 [==============================] - 29s 293ms/step - loss: 0.0514 - acc: 0.9830 - val_loss: 0.1934 - val_acc: 0.9400\n",
            "Epoch 54/100\n",
            "100/100 [==============================] - 29s 292ms/step - loss: 0.0391 - acc: 0.9860 - val_loss: 0.2406 - val_acc: 0.9360\n",
            "Epoch 55/100\n",
            "100/100 [==============================] - 29s 292ms/step - loss: 0.0387 - acc: 0.9870 - val_loss: 0.2285 - val_acc: 0.9300\n",
            "Epoch 56/100\n",
            "100/100 [==============================] - 29s 294ms/step - loss: 0.0384 - acc: 0.9845 - val_loss: 0.1933 - val_acc: 0.9400\n",
            "Epoch 57/100\n",
            "100/100 [==============================] - 30s 297ms/step - loss: 0.0536 - acc: 0.9840 - val_loss: 0.3372 - val_acc: 0.9220\n",
            "Epoch 58/100\n",
            "100/100 [==============================] - 29s 294ms/step - loss: 0.0523 - acc: 0.9830 - val_loss: 0.2224 - val_acc: 0.9390\n",
            "Epoch 59/100\n",
            "100/100 [==============================] - 30s 296ms/step - loss: 0.0417 - acc: 0.9830 - val_loss: 0.2184 - val_acc: 0.9400\n",
            "Epoch 60/100\n",
            "100/100 [==============================] - 29s 293ms/step - loss: 0.0498 - acc: 0.9855 - val_loss: 0.2941 - val_acc: 0.9300\n",
            "Epoch 61/100\n",
            "100/100 [==============================] - 30s 297ms/step - loss: 0.0374 - acc: 0.9860 - val_loss: 0.2432 - val_acc: 0.9360\n",
            "Epoch 62/100\n",
            "100/100 [==============================] - 29s 293ms/step - loss: 0.0334 - acc: 0.9865 - val_loss: 0.3473 - val_acc: 0.9260\n",
            "Epoch 63/100\n",
            "100/100 [==============================] - 29s 293ms/step - loss: 0.0378 - acc: 0.9855 - val_loss: 0.3212 - val_acc: 0.9270\n",
            "Epoch 64/100\n",
            "100/100 [==============================] - 30s 296ms/step - loss: 0.0453 - acc: 0.9825 - val_loss: 0.2366 - val_acc: 0.9330\n",
            "Epoch 65/100\n",
            "100/100 [==============================] - 29s 295ms/step - loss: 0.0335 - acc: 0.9890 - val_loss: 0.2162 - val_acc: 0.9420\n",
            "Epoch 66/100\n",
            "100/100 [==============================] - 30s 297ms/step - loss: 0.0376 - acc: 0.9825 - val_loss: 0.2035 - val_acc: 0.9400\n",
            "Epoch 67/100\n",
            "100/100 [==============================] - 30s 297ms/step - loss: 0.0376 - acc: 0.9840 - val_loss: 0.2132 - val_acc: 0.9380\n",
            "Epoch 68/100\n",
            "100/100 [==============================] - 30s 299ms/step - loss: 0.0445 - acc: 0.9865 - val_loss: 0.2337 - val_acc: 0.9410\n",
            "Epoch 69/100\n",
            "100/100 [==============================] - 30s 296ms/step - loss: 0.0332 - acc: 0.9875 - val_loss: 0.2617 - val_acc: 0.9400\n",
            "Epoch 70/100\n",
            "100/100 [==============================] - 30s 297ms/step - loss: 0.0257 - acc: 0.9920 - val_loss: 0.2640 - val_acc: 0.9330\n",
            "Epoch 71/100\n",
            "100/100 [==============================] - 30s 298ms/step - loss: 0.0406 - acc: 0.9845 - val_loss: 0.2213 - val_acc: 0.9390\n",
            "Epoch 72/100\n",
            "100/100 [==============================] - 30s 302ms/step - loss: 0.0348 - acc: 0.9890 - val_loss: 0.4598 - val_acc: 0.9150\n",
            "Epoch 73/100\n",
            "100/100 [==============================] - 30s 296ms/step - loss: 0.0327 - acc: 0.9865 - val_loss: 0.2803 - val_acc: 0.9340\n",
            "Epoch 74/100\n",
            "100/100 [==============================] - 29s 294ms/step - loss: 0.0194 - acc: 0.9920 - val_loss: 0.3736 - val_acc: 0.9180\n",
            "Epoch 75/100\n",
            "100/100 [==============================] - 29s 295ms/step - loss: 0.0496 - acc: 0.9820 - val_loss: 0.2328 - val_acc: 0.9400\n",
            "Epoch 76/100\n",
            "100/100 [==============================] - 30s 297ms/step - loss: 0.0293 - acc: 0.9890 - val_loss: 0.3347 - val_acc: 0.9250\n",
            "Epoch 77/100\n",
            "100/100 [==============================] - 30s 296ms/step - loss: 0.0352 - acc: 0.9855 - val_loss: 0.2716 - val_acc: 0.9320\n",
            "Epoch 78/100\n",
            "100/100 [==============================] - 30s 299ms/step - loss: 0.0317 - acc: 0.9875 - val_loss: 0.2749 - val_acc: 0.9350\n",
            "Epoch 79/100\n",
            "100/100 [==============================] - 30s 296ms/step - loss: 0.0241 - acc: 0.9910 - val_loss: 0.2970 - val_acc: 0.9340\n",
            "Epoch 80/100\n",
            "100/100 [==============================] - 30s 296ms/step - loss: 0.0267 - acc: 0.9900 - val_loss: 0.2559 - val_acc: 0.9430\n",
            "Epoch 81/100\n",
            "100/100 [==============================] - 29s 295ms/step - loss: 0.0405 - acc: 0.9910 - val_loss: 0.2279 - val_acc: 0.9460\n",
            "Epoch 82/100\n",
            "100/100 [==============================] - 30s 300ms/step - loss: 0.0236 - acc: 0.9945 - val_loss: 0.2710 - val_acc: 0.9380\n",
            "Epoch 83/100\n",
            "100/100 [==============================] - 29s 293ms/step - loss: 0.0190 - acc: 0.9940 - val_loss: 0.3590 - val_acc: 0.9320\n",
            "Epoch 84/100\n",
            "100/100 [==============================] - 29s 294ms/step - loss: 0.0294 - acc: 0.9905 - val_loss: 0.2921 - val_acc: 0.9370\n",
            "Epoch 85/100\n",
            "100/100 [==============================] - 29s 293ms/step - loss: 0.0233 - acc: 0.9915 - val_loss: 0.2502 - val_acc: 0.9370\n",
            "Epoch 86/100\n",
            "100/100 [==============================] - 29s 293ms/step - loss: 0.0183 - acc: 0.9925 - val_loss: 0.3960 - val_acc: 0.9240\n",
            "Epoch 87/100\n",
            "100/100 [==============================] - 29s 293ms/step - loss: 0.0319 - acc: 0.9890 - val_loss: 0.3764 - val_acc: 0.9250\n",
            "Epoch 88/100\n",
            "100/100 [==============================] - 29s 295ms/step - loss: 0.0197 - acc: 0.9965 - val_loss: 0.2783 - val_acc: 0.9390\n",
            "Epoch 89/100\n",
            "100/100 [==============================] - 29s 293ms/step - loss: 0.0309 - acc: 0.9880 - val_loss: 0.2705 - val_acc: 0.9380\n",
            "Epoch 90/100\n",
            "100/100 [==============================] - 29s 293ms/step - loss: 0.0233 - acc: 0.9905 - val_loss: 0.5168 - val_acc: 0.9120\n",
            "Epoch 91/100\n",
            "100/100 [==============================] - 29s 294ms/step - loss: 0.0300 - acc: 0.9890 - val_loss: 0.2741 - val_acc: 0.9410\n",
            "Epoch 92/100\n",
            "100/100 [==============================] - 30s 296ms/step - loss: 0.0190 - acc: 0.9945 - val_loss: 0.2748 - val_acc: 0.9360\n",
            "Epoch 93/100\n",
            "100/100 [==============================] - 30s 297ms/step - loss: 0.0284 - acc: 0.9885 - val_loss: 0.2603 - val_acc: 0.9380\n",
            "Epoch 94/100\n",
            "100/100 [==============================] - 29s 292ms/step - loss: 0.0218 - acc: 0.9930 - val_loss: 0.2833 - val_acc: 0.9380\n",
            "Epoch 95/100\n",
            "100/100 [==============================] - 29s 293ms/step - loss: 0.0314 - acc: 0.9895 - val_loss: 0.2874 - val_acc: 0.9360\n",
            "Epoch 96/100\n",
            "100/100 [==============================] - 29s 293ms/step - loss: 0.0228 - acc: 0.9935 - val_loss: 0.3155 - val_acc: 0.9340\n",
            "Epoch 97/100\n",
            "100/100 [==============================] - 29s 293ms/step - loss: 0.0360 - acc: 0.9885 - val_loss: 0.2821 - val_acc: 0.9350\n",
            "Epoch 98/100\n",
            "100/100 [==============================] - 30s 296ms/step - loss: 0.0228 - acc: 0.9935 - val_loss: 0.2568 - val_acc: 0.9440\n",
            "Epoch 99/100\n",
            "100/100 [==============================] - 29s 293ms/step - loss: 0.0190 - acc: 0.9940 - val_loss: 0.3525 - val_acc: 0.9320\n",
            "Epoch 100/100\n",
            "100/100 [==============================] - 29s 294ms/step - loss: 0.0248 - acc: 0.9920 - val_loss: 0.2950 - val_acc: 0.9380\n"
          ],
          "name": "stdout"
        }
      ]
    },
    {
      "cell_type": "code",
      "metadata": {
        "id": "-PNqav4dpbZ6",
        "outputId": "6e228c42-355b-43b8-da7b-1ae66c790595",
        "colab": {
          "base_uri": "https://localhost:8080/",
          "height": 441
        }
      },
      "source": [
        "# List 5-24: Smoothing plot\n",
        "def smooth_curve(points, factor=0.8):\n",
        "    smoothed_points = []\n",
        "    for point in points:\n",
        "        if smoothed_points:\n",
        "            previous = smoothed_points[-1]\n",
        "            smoothed_points.append(previous * factor + point * (1-factor))\n",
        "        else:\n",
        "            smoothed_points.append(point)\n",
        "    \n",
        "    return smoothed_points\n",
        "\n",
        "n_epochs = range(1, 101)\n",
        "fig, ax = plt.subplots(1, 2, figsize=(14, 6))\n",
        "# Accucary\n",
        "ax[0].plot(n_epochs, smooth_curve(history.history['acc']), 'bo', label='Training accuracy')\n",
        "ax[0].plot(n_epochs, smooth_curve(history.history['val_acc']), 'b', label='Validation accuracy')\n",
        "ax[0].set_title('Training and validation accuracy', fontsize=15)\n",
        "ax[0].legend()\n",
        "\n",
        "# Loss\n",
        "ax[1].plot(n_epochs, smooth_curve(history.history['loss']), 'bo', label='Training loss')\n",
        "ax[1].plot(n_epochs, smooth_curve(history.history['val_loss']), 'b', label='Validation loss')\n",
        "ax[1].set_title('Training and validation loss', fontsize=15)\n",
        "ax[1].legend()\n",
        "\n",
        "plt.tight_layout()\n",
        "plt.show();"
      ],
      "execution_count": 11,
      "outputs": [
        {
          "output_type": "display_data",
          "data": {
            "image/png": "[encoded data removed]",
            "text/plain": [
              "<Figure size 1008x432 with 2 Axes>"
            ]
          },
          "metadata": {
            "tags": [],
            "needs_background": "light"
          }
        }
      ]
    },
    {
      "cell_type": "code",
      "metadata": {
        "id": "Wg4DT4tMz_a_",
        "outputId": "3c4524c1-8e70-4656-8791-9690ee9d3bc6",
        "colab": {
          "base_uri": "https://localhost:8080/"
        }
      },
      "source": [
        "# In the end, use test data and check model performance\n",
        "test_generator = test_datagen.flow_from_directory(\n",
        "    directory=test_dir,\n",
        "    target_size=(150, 150),\n",
        "    batch_size=20,\n",
        "    class_mode='binary'\n",
        ")\n",
        "\n",
        "test_loss, test_acc = model.evaluate(test_generator, steps=50)\n",
        "print('Test ACC: {:.5f}'.format(test_acc))"
      ],
      "execution_count": 12,
      "outputs": [
        {
          "output_type": "stream",
          "text": [
            "Found 1000 images belonging to 2 classes.\n",
            "50/50 [==============================] - 6s 117ms/step - loss: 0.3818 - acc: 0.9320\n",
            "Test ACC: 0.93200\n"
          ],
          "name": "stdout"
        }
      ]
    }
  ]
}